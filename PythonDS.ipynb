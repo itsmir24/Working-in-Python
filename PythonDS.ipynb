{
 "cells": [
  {
   "cell_type": "code",
   "execution_count": 1,
   "id": "f98e0f82-4cd2-4314-9e2b-2c55172634ea",
   "metadata": {},
   "outputs": [],
   "source": [
    "a = 1"
   ]
  },
  {
   "cell_type": "code",
   "execution_count": 2,
   "id": "f5930943-72fe-440e-b227-75c22377a5ef",
   "metadata": {},
   "outputs": [
    {
     "name": "stdout",
     "output_type": "stream",
     "text": [
      "1\n"
     ]
    }
   ],
   "source": [
    "print(a)"
   ]
  },
  {
   "cell_type": "code",
   "execution_count": 3,
   "id": "eecc5aa2-a928-4474-bd47-ab26642c084b",
   "metadata": {},
   "outputs": [],
   "source": [
    "b=2"
   ]
  },
  {
   "cell_type": "code",
   "execution_count": 4,
   "id": "bcb6bf25-fd93-41f1-906d-973486e4c253",
   "metadata": {},
   "outputs": [
    {
     "name": "stdout",
     "output_type": "stream",
     "text": [
      "2\n"
     ]
    }
   ],
   "source": [
    "print(b)"
   ]
  },
  {
   "cell_type": "markdown",
   "id": "fb1c1d7d-56f1-4db7-ae40-bf3953f38cce",
   "metadata": {},
   "source": [
    "## Work with Number"
   ]
  },
  {
   "cell_type": "code",
   "execution_count": 5,
   "id": "22196095-9bab-4853-bcac-3791387dd0f1",
   "metadata": {},
   "outputs": [],
   "source": [
    "n1 = 1\n",
    "n2 = 2.0"
   ]
  },
  {
   "cell_type": "code",
   "execution_count": 6,
   "id": "a842b03e-e033-42cb-a746-f5418369790b",
   "metadata": {},
   "outputs": [
    {
     "data": {
      "text/plain": [
       "int"
      ]
     },
     "execution_count": 6,
     "metadata": {},
     "output_type": "execute_result"
    }
   ],
   "source": [
    "type(n1)"
   ]
  },
  {
   "cell_type": "code",
   "execution_count": 7,
   "id": "4db0b260-f866-4481-8b84-c47f8d4097ac",
   "metadata": {},
   "outputs": [
    {
     "data": {
      "text/plain": [
       "float"
      ]
     },
     "execution_count": 7,
     "metadata": {},
     "output_type": "execute_result"
    }
   ],
   "source": [
    "type(n2)"
   ]
  },
  {
   "cell_type": "code",
   "execution_count": 8,
   "id": "0f56eef1-4dd7-48d4-bb3e-89b8be69c1a8",
   "metadata": {},
   "outputs": [
    {
     "data": {
      "text/plain": [
       "3.0"
      ]
     },
     "execution_count": 8,
     "metadata": {},
     "output_type": "execute_result"
    }
   ],
   "source": [
    "n1+n2"
   ]
  },
  {
   "cell_type": "code",
   "execution_count": 9,
   "id": "719a0b22-bf5b-42dc-ba13-b0863fed3638",
   "metadata": {},
   "outputs": [
    {
     "data": {
      "text/plain": [
       "float"
      ]
     },
     "execution_count": 9,
     "metadata": {},
     "output_type": "execute_result"
    }
   ],
   "source": [
    "type(n1+n2)"
   ]
  },
  {
   "cell_type": "raw",
   "id": "8af779c8-8e9d-4590-a29b-7de8194c4708",
   "metadata": {},
   "source": [
    "a=7\n",
    "b=3\n",
    "print(a+b)\n",
    "print(a-b)\n",
    "print(a*b)\n",
    "print(a/b)\n",
    "print(a%b)"
   ]
  },
  {
   "cell_type": "raw",
   "id": "e05e7fe2-a514-4e4a-a1b3-191c5a90e69a",
   "metadata": {},
   "source": [
    "a=input(\"enter value\")\n",
    "b=input(\"enter value\")\n",
    "c=a+b\n",
    "print(c)"
   ]
  },
  {
   "cell_type": "code",
   "execution_count": 10,
   "id": "0ed6eb8f-406f-4f06-954b-55b795607fb2",
   "metadata": {},
   "outputs": [
    {
     "name": "stdout",
     "output_type": "stream",
     "text": [
      "hello\n"
     ]
    }
   ],
   "source": [
    "print(\"hello\")"
   ]
  },
  {
   "cell_type": "code",
   "execution_count": 11,
   "id": "be0a16c3-833c-4eee-a5ee-3054e463a529",
   "metadata": {},
   "outputs": [
    {
     "name": "stdout",
     "output_type": "stream",
     "text": [
      "10\n",
      "4\n",
      "21\n",
      "2.3333333333333335\n",
      "1\n"
     ]
    }
   ],
   "source": [
    "a=7\n",
    "b=3\n",
    "print(a+b)\n",
    "print(a-b)\n",
    "print(a*b)\n",
    "print(a/b)\n",
    "print(a%b)"
   ]
  },
  {
   "cell_type": "code",
   "execution_count": 12,
   "id": "f6719451-e9d7-4873-885a-d1fef628677a",
   "metadata": {
    "scrolled": true
   },
   "outputs": [
    {
     "name": "stdin",
     "output_type": "stream",
     "text": [
      "enter value 11\n",
      "enter value 2\n"
     ]
    },
    {
     "name": "stdout",
     "output_type": "stream",
     "text": [
      "13\n",
      "9\n",
      "22\n",
      "5.5\n",
      "1\n"
     ]
    }
   ],
   "source": [
    "a=int(input(\"enter value\"))\n",
    "b=int(input(\"enter value\"))\n",
    "print(a+b)\n",
    "print(a-b)\n",
    "print(a*b)\n",
    "print(a/b)\n",
    "print(a%b)"
   ]
  },
  {
   "cell_type": "code",
   "execution_count": 13,
   "id": "8807ed28-e077-4ce9-bb07-fd4d1c561a6e",
   "metadata": {},
   "outputs": [
    {
     "ename": "NameError",
     "evalue": "name 'c' is not defined",
     "output_type": "error",
     "traceback": [
      "\u001b[1;31m---------------------------------------------------------------------------\u001b[0m",
      "\u001b[1;31mNameError\u001b[0m                                 Traceback (most recent call last)",
      "Cell \u001b[1;32mIn[13], line 1\u001b[0m\n\u001b[1;32m----> 1\u001b[0m \u001b[38;5;28mprint\u001b[39m(\u001b[38;5;124mf\u001b[39m\u001b[38;5;124m\"\u001b[39m\u001b[38;5;124mthe sum of \u001b[39m\u001b[38;5;132;01m{\u001b[39;00ma\u001b[38;5;132;01m}\u001b[39;00m\u001b[38;5;124m & \u001b[39m\u001b[38;5;132;01m{\u001b[39;00mb\u001b[38;5;132;01m}\u001b[39;00m\u001b[38;5;124m is \u001b[39m\u001b[38;5;132;01m{\u001b[39;00mc\u001b[38;5;132;01m}\u001b[39;00m\u001b[38;5;124m\"\u001b[39m)\n",
      "\u001b[1;31mNameError\u001b[0m: name 'c' is not defined"
     ]
    }
   ],
   "source": [
    "print(f\"the sum of {a} & {b} is {c}\")"
   ]
  },
  {
   "cell_type": "code",
   "execution_count": null,
   "id": "22e84b61-fea0-42db-93a0-dd0c28a0b664",
   "metadata": {},
   "outputs": [],
   "source": [
    "x=7\n",
    "y=3\n",
    "z=x\n",
    "x=y\n",
    "y=z\n",
    "print(x)\n",
    "print(y)"
   ]
  },
  {
   "cell_type": "code",
   "execution_count": null,
   "id": "10883b09-9874-481b-bbd1-535f3b8f0426",
   "metadata": {},
   "outputs": [],
   "source": [
    "x=7\n",
    "y=3\n",
    "x=x+y\n",
    "y=x-y\n",
    "x=x-y\n",
    "print(\"x=\",x)\n",
    "print(y)"
   ]
  },
  {
   "cell_type": "markdown",
   "id": "96bda3ba-1aab-49b0-a0db-17678a92f03d",
   "metadata": {},
   "source": [
    "### Work with String"
   ]
  },
  {
   "cell_type": "code",
   "execution_count": null,
   "id": "4218db40-0a30-40fd-a470-90c0ab9f5781",
   "metadata": {},
   "outputs": [],
   "source": [
    "s1=\"This is a string\"\n",
    "s2='python'\n",
    "s3='''python is a \n",
    "programming language'''"
   ]
  },
  {
   "cell_type": "code",
   "execution_count": null,
   "id": "3b0be991-e082-4c6e-b541-b17cd799d8ec",
   "metadata": {},
   "outputs": [],
   "source": [
    "type(s1)"
   ]
  },
  {
   "cell_type": "code",
   "execution_count": null,
   "id": "45d6a4ff-e5ec-49c2-8da2-320194379740",
   "metadata": {},
   "outputs": [],
   "source": [
    "type(s2)"
   ]
  },
  {
   "cell_type": "code",
   "execution_count": null,
   "id": "737ac59d-cd38-49b1-bfeb-68a05d71b270",
   "metadata": {},
   "outputs": [],
   "source": [
    "type(s3)"
   ]
  },
  {
   "cell_type": "code",
   "execution_count": null,
   "id": "d374369b-3f2d-4bf1-b880-bf1deab7f22a",
   "metadata": {},
   "outputs": [],
   "source": [
    "print(s1[1])"
   ]
  },
  {
   "cell_type": "code",
   "execution_count": null,
   "id": "c417a878-58e1-4b3d-8804-81f376254d4b",
   "metadata": {},
   "outputs": [],
   "source": [
    "s1[2]"
   ]
  },
  {
   "cell_type": "code",
   "execution_count": null,
   "id": "4bc99036-b8af-4e0b-aea0-e80a6b71b5fe",
   "metadata": {},
   "outputs": [],
   "source": [
    "for i in s2:\n",
    "    print(i)"
   ]
  },
  {
   "cell_type": "code",
   "execution_count": null,
   "id": "3c2ee858-cbe5-42a8-ad92-4a68671a4253",
   "metadata": {},
   "outputs": [],
   "source": [
    "s='Anaconda'"
   ]
  },
  {
   "cell_type": "code",
   "execution_count": null,
   "id": "434753f9-86b9-48ea-951d-e8ad664affb2",
   "metadata": {},
   "outputs": [],
   "source": [
    "s[0:2]"
   ]
  },
  {
   "cell_type": "code",
   "execution_count": null,
   "id": "fe7a20b6-2547-4640-a502-d1affaf89caf",
   "metadata": {},
   "outputs": [],
   "source": [
    "s[2:4]"
   ]
  },
  {
   "cell_type": "code",
   "execution_count": null,
   "id": "98951d04-4ea4-4d7a-a999-eb73da14ee7b",
   "metadata": {},
   "outputs": [],
   "source": [
    "s[-3:-1]"
   ]
  },
  {
   "cell_type": "code",
   "execution_count": null,
   "id": "937dea5a-7bc6-46b4-b3a3-dce4af6a6ad7",
   "metadata": {},
   "outputs": [],
   "source": [
    "s[-3:]"
   ]
  },
  {
   "cell_type": "code",
   "execution_count": null,
   "id": "2d2afdfb-b733-4150-bb42-25c5145a731f",
   "metadata": {},
   "outputs": [],
   "source": [
    "s[:-3]"
   ]
  },
  {
   "cell_type": "code",
   "execution_count": null,
   "id": "c3e74743-d787-4e5f-9604-7ca5e7088b3f",
   "metadata": {},
   "outputs": [],
   "source": [
    "s[2:7:2]"
   ]
  },
  {
   "cell_type": "code",
   "execution_count": null,
   "id": "6bca5d38-9fea-425b-af9a-9364d6c90f97",
   "metadata": {},
   "outputs": [],
   "source": [
    "print(dir(s1))"
   ]
  },
  {
   "cell_type": "code",
   "execution_count": null,
   "id": "943c9fdb-942b-4d00-b2bb-83f63f11a772",
   "metadata": {},
   "outputs": [],
   "source": [
    "?s1.upper"
   ]
  },
  {
   "cell_type": "code",
   "execution_count": null,
   "id": "a31ee8ad-983a-4220-94a8-bc217ccf4971",
   "metadata": {},
   "outputs": [],
   "source": [
    "s1.upper()"
   ]
  },
  {
   "cell_type": "markdown",
   "id": "c6154eb6-a2f2-446a-a407-9d7774b1663f",
   "metadata": {},
   "source": [
    "### Work with List"
   ]
  },
  {
   "cell_type": "code",
   "execution_count": null,
   "id": "4776ef8e-026b-4c72-8160-17f196db8849",
   "metadata": {},
   "outputs": [],
   "source": [
    "#Lists are used to store heterogeneous data. They can be used to store different types of data, such as numbers, strings, and even lists themselves. "
   ]
  },
  {
   "cell_type": "code",
   "execution_count": 14,
   "id": "d70a63e4-e3f3-45ee-a1ac-280d56c3533c",
   "metadata": {},
   "outputs": [],
   "source": [
    "l = [1,23,\"abc\",[1,2,3]]"
   ]
  },
  {
   "cell_type": "code",
   "execution_count": 15,
   "id": "1928072b-ce0b-4c16-9688-61c072c30764",
   "metadata": {},
   "outputs": [
    {
     "data": {
      "text/plain": [
       "list"
      ]
     },
     "execution_count": 15,
     "metadata": {},
     "output_type": "execute_result"
    }
   ],
   "source": [
    "type(l)"
   ]
  },
  {
   "cell_type": "code",
   "execution_count": null,
   "id": "ea86a1a9-bfe5-4613-9c67-f59e55eae183",
   "metadata": {},
   "outputs": [],
   "source": [
    "l[-1]"
   ]
  },
  {
   "cell_type": "code",
   "execution_count": null,
   "id": "bc7b8b1b-1ab1-4d72-ac50-03e2cd3dd928",
   "metadata": {},
   "outputs": [],
   "source": [
    "for i in l:\n",
    "    print(i)"
   ]
  },
  {
   "cell_type": "code",
   "execution_count": null,
   "id": "8a62d6f1-26d4-43a3-9d25-62eab71b38b7",
   "metadata": {},
   "outputs": [],
   "source": [
    "l[2]=\"q\""
   ]
  },
  {
   "cell_type": "code",
   "execution_count": null,
   "id": "d0087dec-e39b-48e0-a2a0-79c163a6a013",
   "metadata": {},
   "outputs": [],
   "source": [
    "l.append(\"abc\")"
   ]
  },
  {
   "cell_type": "code",
   "execution_count": null,
   "id": "00be3f56-6fa5-4f37-9df9-447d2e44d14a",
   "metadata": {},
   "outputs": [],
   "source": [
    "for i in l:\n",
    "    print(i)"
   ]
  },
  {
   "cell_type": "code",
   "execution_count": 20,
   "id": "87cf1fbc-5f5d-4a5e-a67f-1529ac8f795b",
   "metadata": {},
   "outputs": [
    {
     "name": "stdout",
     "output_type": "stream",
     "text": [
      "Help on class list in module builtins:\n",
      "\n",
      "class list(object)\n",
      " |  list(iterable=(), /)\n",
      " |  \n",
      " |  Built-in mutable sequence.\n",
      " |  \n",
      " |  If no argument is given, the constructor creates a new empty list.\n",
      " |  The argument must be an iterable if specified.\n",
      " |  \n",
      " |  Methods defined here:\n",
      " |  \n",
      " |  __add__(self, value, /)\n",
      " |      Return self+value.\n",
      " |  \n",
      " |  __contains__(self, key, /)\n",
      " |      Return key in self.\n",
      " |  \n",
      " |  __delitem__(self, key, /)\n",
      " |      Delete self[key].\n",
      " |  \n",
      " |  __eq__(self, value, /)\n",
      " |      Return self==value.\n",
      " |  \n",
      " |  __ge__(self, value, /)\n",
      " |      Return self>=value.\n",
      " |  \n",
      " |  __getattribute__(self, name, /)\n",
      " |      Return getattr(self, name).\n",
      " |  \n",
      " |  __getitem__(...)\n",
      " |      x.__getitem__(y) <==> x[y]\n",
      " |  \n",
      " |  __gt__(self, value, /)\n",
      " |      Return self>value.\n",
      " |  \n",
      " |  __iadd__(self, value, /)\n",
      " |      Implement self+=value.\n",
      " |  \n",
      " |  __imul__(self, value, /)\n",
      " |      Implement self*=value.\n",
      " |  \n",
      " |  __init__(self, /, *args, **kwargs)\n",
      " |      Initialize self.  See help(type(self)) for accurate signature.\n",
      " |  \n",
      " |  __iter__(self, /)\n",
      " |      Implement iter(self).\n",
      " |  \n",
      " |  __le__(self, value, /)\n",
      " |      Return self<=value.\n",
      " |  \n",
      " |  __len__(self, /)\n",
      " |      Return len(self).\n",
      " |  \n",
      " |  __lt__(self, value, /)\n",
      " |      Return self<value.\n",
      " |  \n",
      " |  __mul__(self, value, /)\n",
      " |      Return self*value.\n",
      " |  \n",
      " |  __ne__(self, value, /)\n",
      " |      Return self!=value.\n",
      " |  \n",
      " |  __repr__(self, /)\n",
      " |      Return repr(self).\n",
      " |  \n",
      " |  __reversed__(self, /)\n",
      " |      Return a reverse iterator over the list.\n",
      " |  \n",
      " |  __rmul__(self, value, /)\n",
      " |      Return value*self.\n",
      " |  \n",
      " |  __setitem__(self, key, value, /)\n",
      " |      Set self[key] to value.\n",
      " |  \n",
      " |  __sizeof__(self, /)\n",
      " |      Return the size of the list in memory, in bytes.\n",
      " |  \n",
      " |  append(self, object, /)\n",
      " |      Append object to the end of the list.\n",
      " |  \n",
      " |  clear(self, /)\n",
      " |      Remove all items from list.\n",
      " |  \n",
      " |  copy(self, /)\n",
      " |      Return a shallow copy of the list.\n",
      " |  \n",
      " |  count(self, value, /)\n",
      " |      Return number of occurrences of value.\n",
      " |  \n",
      " |  extend(self, iterable, /)\n",
      " |      Extend list by appending elements from the iterable.\n",
      " |  \n",
      " |  index(self, value, start=0, stop=9223372036854775807, /)\n",
      " |      Return first index of value.\n",
      " |      \n",
      " |      Raises ValueError if the value is not present.\n",
      " |  \n",
      " |  insert(self, index, object, /)\n",
      " |      Insert object before index.\n",
      " |  \n",
      " |  pop(self, index=-1, /)\n",
      " |      Remove and return item at index (default last).\n",
      " |      \n",
      " |      Raises IndexError if list is empty or index is out of range.\n",
      " |  \n",
      " |  remove(self, value, /)\n",
      " |      Remove first occurrence of value.\n",
      " |      \n",
      " |      Raises ValueError if the value is not present.\n",
      " |  \n",
      " |  reverse(self, /)\n",
      " |      Reverse *IN PLACE*.\n",
      " |  \n",
      " |  sort(self, /, *, key=None, reverse=False)\n",
      " |      Sort the list in ascending order and return None.\n",
      " |      \n",
      " |      The sort is in-place (i.e. the list itself is modified) and stable (i.e. the\n",
      " |      order of two equal elements is maintained).\n",
      " |      \n",
      " |      If a key function is given, apply it once to each list item and sort them,\n",
      " |      ascending or descending, according to their function values.\n",
      " |      \n",
      " |      The reverse flag can be set to sort in descending order.\n",
      " |  \n",
      " |  ----------------------------------------------------------------------\n",
      " |  Class methods defined here:\n",
      " |  \n",
      " |  __class_getitem__(...) from builtins.type\n",
      " |      See PEP 585\n",
      " |  \n",
      " |  ----------------------------------------------------------------------\n",
      " |  Static methods defined here:\n",
      " |  \n",
      " |  __new__(*args, **kwargs) from builtins.type\n",
      " |      Create and return a new object.  See help(type) for accurate signature.\n",
      " |  \n",
      " |  ----------------------------------------------------------------------\n",
      " |  Data and other attributes defined here:\n",
      " |  \n",
      " |  __hash__ = None\n",
      "\n"
     ]
    }
   ],
   "source": [
    "help(list)"
   ]
  },
  {
   "cell_type": "code",
   "execution_count": 16,
   "id": "ce3d3965-1701-4212-8384-c41c2add6065",
   "metadata": {},
   "outputs": [
    {
     "data": {
      "text/plain": [
       "'abc'"
      ]
     },
     "execution_count": 16,
     "metadata": {},
     "output_type": "execute_result"
    }
   ],
   "source": [
    "l.pop(2)"
   ]
  },
  {
   "cell_type": "code",
   "execution_count": 17,
   "id": "cb37a7c8-af04-4f40-b658-fa895fbfc2e4",
   "metadata": {},
   "outputs": [
    {
     "data": {
      "text/plain": [
       "[1, 23, [1, 2, 3]]"
      ]
     },
     "execution_count": 17,
     "metadata": {},
     "output_type": "execute_result"
    }
   ],
   "source": [
    "l"
   ]
  },
  {
   "cell_type": "code",
   "execution_count": 21,
   "id": "155b52ed-84a9-4715-b820-8d13d8f614dc",
   "metadata": {},
   "outputs": [],
   "source": [
    "l.insert(2,\"herovired\")"
   ]
  },
  {
   "cell_type": "code",
   "execution_count": 22,
   "id": "e7543a1a-aae8-4ca7-b0af-39e9703b5493",
   "metadata": {},
   "outputs": [
    {
     "data": {
      "text/plain": [
       "[1, 23, 'herovired', [1, 2, 3]]"
      ]
     },
     "execution_count": 22,
     "metadata": {},
     "output_type": "execute_result"
    }
   ],
   "source": [
    "l"
   ]
  },
  {
   "cell_type": "code",
   "execution_count": 23,
   "id": "4422d313-3901-482b-8d50-7fe6d394282f",
   "metadata": {},
   "outputs": [],
   "source": [
    "l.insert(3,23)"
   ]
  },
  {
   "cell_type": "code",
   "execution_count": 24,
   "id": "dc6986d7-fcc9-406c-83c0-0f4bb082fb36",
   "metadata": {},
   "outputs": [
    {
     "data": {
      "text/plain": [
       "2"
      ]
     },
     "execution_count": 24,
     "metadata": {},
     "output_type": "execute_result"
    }
   ],
   "source": [
    "l.count(23)"
   ]
  },
  {
   "cell_type": "code",
   "execution_count": null,
   "id": "764ebe73-dea3-4937-bd20-f3737cbb7597",
   "metadata": {},
   "outputs": [],
   "source": [
    "row = \"34,35,36,37,38\"\n",
    "print(row.split(\",\"))"
   ]
  },
  {
   "cell_type": "markdown",
   "id": "6cf5e3aa-51f3-4f82-a578-537b24f7040f",
   "metadata": {},
   "source": [
    "## Work with Tuple "
   ]
  },
  {
   "cell_type": "code",
   "execution_count": null,
   "id": "fe3dcb1f-1c1b-4a51-bf94-8ccb213a8744",
   "metadata": {},
   "outputs": [],
   "source": [
    "##Tuples are very similar to lists. The only difference is that they are not mutable, i.e., values stored in them once can't be changed. "
   ]
  },
  {
   "cell_type": "code",
   "execution_count": null,
   "id": "21fd8083-bf19-4d41-914a-245ee931385f",
   "metadata": {},
   "outputs": [],
   "source": [
    "t1=('a',\"abc\",123,[7,8,6])"
   ]
  },
  {
   "cell_type": "code",
   "execution_count": null,
   "id": "11fb8c7b-ce08-4342-86a1-a2ffa30f04c8",
   "metadata": {},
   "outputs": [],
   "source": [
    "type(t1)"
   ]
  },
  {
   "cell_type": "code",
   "execution_count": null,
   "id": "a8a4e4db-35c0-4c80-bfc6-4cd34172bced",
   "metadata": {},
   "outputs": [],
   "source": [
    "t1[0]"
   ]
  },
  {
   "cell_type": "code",
   "execution_count": null,
   "id": "784f8c83-66b2-4caa-a6ca-42f5b4cd3df2",
   "metadata": {},
   "outputs": [],
   "source": [
    "for i in t1:\n",
    "    print(i)"
   ]
  },
  {
   "cell_type": "code",
   "execution_count": null,
   "id": "06eb6d27-84a9-46fc-90af-5afbfe910421",
   "metadata": {},
   "outputs": [],
   "source": [
    "t1[1]=\"qwerty\""
   ]
  },
  {
   "cell_type": "code",
   "execution_count": null,
   "id": "22a55562-ba82-41ad-bb35-67efff9d38f8",
   "metadata": {},
   "outputs": [],
   "source": [
    "t1[4]=(2,3,4)"
   ]
  },
  {
   "cell_type": "code",
   "execution_count": null,
   "id": "ad2b401c-99c8-43d1-87f3-edb59f6da8e8",
   "metadata": {},
   "outputs": [],
   "source": [
    "ll=list(t1)"
   ]
  },
  {
   "cell_type": "code",
   "execution_count": null,
   "id": "9273ee2a-10cd-4c42-aaab-30518be5faec",
   "metadata": {},
   "outputs": [],
   "source": [
    "ll"
   ]
  },
  {
   "cell_type": "code",
   "execution_count": null,
   "id": "0599f736-5bc2-4b88-bdfa-2ab7946f4cd6",
   "metadata": {},
   "outputs": [],
   "source": [
    "ll[1]='abdul'"
   ]
  },
  {
   "cell_type": "code",
   "execution_count": null,
   "id": "e748a2bd-95b0-4706-bafc-667545b6cf2a",
   "metadata": {},
   "outputs": [],
   "source": [
    "ll"
   ]
  },
  {
   "cell_type": "code",
   "execution_count": null,
   "id": "c0dfc3a0-ef54-41cd-b6c4-f90564eeb09c",
   "metadata": {},
   "outputs": [],
   "source": [
    "# Original tuple\n",
    "my_tuple = (1, 2, 3)\n",
    "\n",
    "# Attempting to change an item in the tuple (this will raise an error)\n",
    "# my_tuple[1] = 5  # Uncommenting this line will cause a TypeError\n",
    "\n",
    "# Creating a new tuple with the desired changes\n",
    "new_tuple = my_tuple[:1] + (5,) + my_tuple[2:]\n",
    "\n",
    "print(new_tuple)  # Output: (1, 5, 3)"
   ]
  },
  {
   "cell_type": "markdown",
   "id": "45d211e3-5609-411a-919f-930530d5f314",
   "metadata": {},
   "source": [
    "## Work with Dictionary"
   ]
  },
  {
   "cell_type": "code",
   "execution_count": null,
   "id": "6834d8b9-e36b-4c0e-b434-7dc06a365806",
   "metadata": {},
   "outputs": [],
   "source": [
    "#Dictionaries are key-value pairs. They are used to store data when fast retrieval is needed. "
   ]
  },
  {
   "cell_type": "code",
   "execution_count": null,
   "id": "f7dc05e1-9654-4b29-aed9-831e7e80b3d1",
   "metadata": {},
   "outputs": [],
   "source": [
    "d={\"name\":\"abdul\",\"age\":25, \"previous orgs\":[\"CTS\" , \"TCS\"]}"
   ]
  },
  {
   "cell_type": "code",
   "execution_count": null,
   "id": "72728726-843a-4db6-9d21-1b94cf5b0086",
   "metadata": {},
   "outputs": [],
   "source": [
    "d['name']"
   ]
  },
  {
   "cell_type": "code",
   "execution_count": null,
   "id": "a5020563-a3b8-4a64-9d34-cf663fe7fb48",
   "metadata": {},
   "outputs": [],
   "source": [
    "d"
   ]
  },
  {
   "cell_type": "code",
   "execution_count": null,
   "id": "5c920bff-f4fc-4d33-8e89-202186ef1d87",
   "metadata": {},
   "outputs": [],
   "source": [
    "for i in d:\n",
    "    print(i,d[i])"
   ]
  },
  {
   "cell_type": "code",
   "execution_count": null,
   "id": "580de06e-13d3-4e9c-a2c4-88923f901f5c",
   "metadata": {},
   "outputs": [],
   "source": [
    "d[1] #you cannot fetch data by position but by name "
   ]
  },
  {
   "cell_type": "code",
   "execution_count": null,
   "id": "4785fe58-facc-4e1d-a57a-86f0097d2dcc",
   "metadata": {},
   "outputs": [],
   "source": [
    "d[\"income\"]=50000"
   ]
  },
  {
   "cell_type": "code",
   "execution_count": null,
   "id": "b717544d-66c8-4d81-a198-524b9e6c30db",
   "metadata": {},
   "outputs": [],
   "source": [
    "d"
   ]
  },
  {
   "cell_type": "code",
   "execution_count": null,
   "id": "644c8dc2-0765-44d1-a281-1c78017f18e2",
   "metadata": {},
   "outputs": [],
   "source": [
    "\"income\" in d"
   ]
  },
  {
   "cell_type": "markdown",
   "id": "f617a160-0fa4-4849-8463-9cfe7fed5de7",
   "metadata": {},
   "source": [
    "## working with Sets"
   ]
  },
  {
   "cell_type": "code",
   "execution_count": null,
   "id": "7dd672eb-fd52-4e72-ae65-85511a4a8e87",
   "metadata": {},
   "outputs": [],
   "source": [
    "#Sets are collections of unique elements. These elements can be numbers, strings, etc."
   ]
  },
  {
   "cell_type": "code",
   "execution_count": null,
   "id": "dd7f6a38-4b34-4a08-9154-53ad6a700196",
   "metadata": {},
   "outputs": [],
   "source": [
    "s1=set(('q','w','e','e','q','r'))"
   ]
  },
  {
   "cell_type": "code",
   "execution_count": null,
   "id": "cda1279b-c102-4034-8e6c-943012bbc2cf",
   "metadata": {},
   "outputs": [],
   "source": [
    "s1"
   ]
  },
  {
   "cell_type": "code",
   "execution_count": null,
   "id": "0c8fa557-8ef8-44b4-b42b-29ea53cf69c4",
   "metadata": {},
   "outputs": [],
   "source": [
    "type(s1)"
   ]
  },
  {
   "cell_type": "code",
   "execution_count": null,
   "id": "b6e3a64e-aa0b-4841-97ec-80161680e61f",
   "metadata": {},
   "outputs": [],
   "source": [
    "s2 = {'q','t','y'}"
   ]
  },
  {
   "cell_type": "code",
   "execution_count": null,
   "id": "f2f7bd9d-dfc6-456a-80c4-49a317e66560",
   "metadata": {},
   "outputs": [],
   "source": [
    "s1.intersection(s2)"
   ]
  },
  {
   "cell_type": "code",
   "execution_count": null,
   "id": "5569d148-1c90-4306-b513-93497a0cc12a",
   "metadata": {},
   "outputs": [],
   "source": [
    "s1.difference(s2)"
   ]
  }
 ],
 "metadata": {
  "kernelspec": {
   "display_name": "Python 3 (ipykernel)",
   "language": "python",
   "name": "python3"
  },
  "language_info": {
   "codemirror_mode": {
    "name": "ipython",
    "version": 3
   },
   "file_extension": ".py",
   "mimetype": "text/x-python",
   "name": "python",
   "nbconvert_exporter": "python",
   "pygments_lexer": "ipython3",
   "version": "3.11.7"
  }
 },
 "nbformat": 4,
 "nbformat_minor": 5
}

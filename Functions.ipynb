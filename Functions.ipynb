{
 "cells": [
  {
   "cell_type": "code",
   "execution_count": 1,
   "id": "09358a08-b2ca-4147-9a87-f4203d4dbce6",
   "metadata": {},
   "outputs": [],
   "source": [
    "def multiplication(x,y):\n",
    "    return x*y\n",
    "    "
   ]
  },
  {
   "cell_type": "code",
   "execution_count": 2,
   "id": "cb5f44de-5974-4728-84d3-6264cf85284f",
   "metadata": {},
   "outputs": [
    {
     "data": {
      "text/plain": [
       "20"
      ]
     },
     "execution_count": 2,
     "metadata": {},
     "output_type": "execute_result"
    }
   ],
   "source": [
    "multiplication(4,5)"
   ]
  },
  {
   "cell_type": "code",
   "execution_count": 9,
   "id": "8583137c-c55f-4d8d-98ce-d67489f15c48",
   "metadata": {},
   "outputs": [],
   "source": [
    "def final_price(Price,Discount):\n",
    "    return Price-(Discount*Price)\n",
    "    "
   ]
  },
  {
   "cell_type": "code",
   "execution_count": 10,
   "id": "de186587-f52b-46b9-9737-964b6ce305ec",
   "metadata": {},
   "outputs": [
    {
     "data": {
      "text/plain": [
       "750.0"
      ]
     },
     "execution_count": 10,
     "metadata": {},
     "output_type": "execute_result"
    }
   ],
   "source": [
    "final_price(1000,0.25)"
   ]
  },
  {
   "cell_type": "code",
   "execution_count": 11,
   "id": "90992e40-1811-4149-a0eb-f08113b38129",
   "metadata": {},
   "outputs": [
    {
     "name": "stdout",
     "output_type": "stream",
     "text": [
      "25\n"
     ]
    }
   ],
   "source": [
    "#an anonymous function, single expression\n",
    "\n",
    "sq=lambda x:x*x\n",
    "\n",
    "print(sq(5))"
   ]
  },
  {
   "cell_type": "code",
   "execution_count": 17,
   "id": "869442c7-5fbb-4bed-bffb-9eeb50b4c2fb",
   "metadata": {},
   "outputs": [
    {
     "data": {
      "text/plain": [
       "10"
      ]
     },
     "execution_count": 17,
     "metadata": {},
     "output_type": "execute_result"
    }
   ],
   "source": [
    "add=lambda x,y:x+y\n",
    "add(3,7)"
   ]
  },
  {
   "cell_type": "code",
   "execution_count": 21,
   "id": "a9215416-b2ca-42d0-ae15-c9db27897707",
   "metadata": {},
   "outputs": [],
   "source": [
    "employees=[('Abdul',29),('Saddam',32),('Chandan',25),('Sravan',34),('Prateek',30),('Ajjin',28),('ashutosh',31)]\n",
    "sorted_employee=sorted(employees,key=lambda x:x[1])"
   ]
  },
  {
   "cell_type": "code",
   "execution_count": 19,
   "id": "a3924f76-083e-4126-bc9b-6ea9907cfcd0",
   "metadata": {},
   "outputs": [
    {
     "data": {
      "text/plain": [
       "[('Chandan', 25),\n",
       " ('Ajjin', 28),\n",
       " ('Abdul', 29),\n",
       " ('Prateek', 30),\n",
       " ('ashutosh', 31),\n",
       " ('Saddam', 32),\n",
       " ('Sravan', 34)]"
      ]
     },
     "execution_count": 19,
     "metadata": {},
     "output_type": "execute_result"
    }
   ],
   "source": [
    "sorted_employee"
   ]
  },
  {
   "cell_type": "code",
   "execution_count": 25,
   "id": "e5d1a6df-7f65-43cd-9938-6e861827ef18",
   "metadata": {},
   "outputs": [],
   "source": [
    "def sort_by_age(employee):\n",
    "    return employee[1]"
   ]
  },
  {
   "cell_type": "code",
   "execution_count": 26,
   "id": "b2bde6fa-5ebe-448f-b902-698bdb6b7cde",
   "metadata": {},
   "outputs": [],
   "source": [
    "employees=[('Abdul',29),('Saddam',32),('Chandan',25),('Sravan',34),('Prateek',30),('Ajjin',28),('ashutosh',31)]"
   ]
  },
  {
   "cell_type": "code",
   "execution_count": 29,
   "id": "64787311-35de-4600-857c-425b0c726152",
   "metadata": {},
   "outputs": [
    {
     "data": {
      "text/plain": [
       "[('Chandan', 25),\n",
       " ('Ajjin', 28),\n",
       " ('Abdul', 29),\n",
       " ('Prateek', 30),\n",
       " ('ashutosh', 31),\n",
       " ('Saddam', 32),\n",
       " ('Sravan', 34)]"
      ]
     },
     "execution_count": 29,
     "metadata": {},
     "output_type": "execute_result"
    }
   ],
   "source": [
    "sort_emp=sorted(employees,key=sort_by_age)\n",
    "sort_emp"
   ]
  },
  {
   "cell_type": "code",
   "execution_count": 33,
   "id": "7ba44bf0-bfb3-47e4-927f-072bf497fb74",
   "metadata": {},
   "outputs": [
    {
     "data": {
      "text/plain": [
       "[1, 4, 9, 16, 25]"
      ]
     },
     "execution_count": 33,
     "metadata": {},
     "output_type": "execute_result"
    }
   ],
   "source": [
    "#map in lambda\n",
    "\n",
    "#do the square of each no in a list\n",
    "\n",
    "a=[1,2,3,4,5]\n",
    "\n",
    "sq_a=list(map(lambda x:x*x,a))\n",
    "sq_a"
   ]
  },
  {
   "cell_type": "code",
   "execution_count": 4,
   "id": "a8b627f7-efae-4f0e-af55-3613f0fee84f",
   "metadata": {},
   "outputs": [],
   "source": [
    "#reduce\n",
    "from functools import reduce\n",
    "a=[1,2,3,4,5,6,7]\n",
    "prod=reduce(lambda x,y:x*y,a)"
   ]
  },
  {
   "cell_type": "code",
   "execution_count": 5,
   "id": "85852c52-0186-4bcc-9b7a-c77d01604f6e",
   "metadata": {},
   "outputs": [
    {
     "data": {
      "text/plain": [
       "5040"
      ]
     },
     "execution_count": 5,
     "metadata": {},
     "output_type": "execute_result"
    }
   ],
   "source": [
    "prod"
   ]
  },
  {
   "cell_type": "code",
   "execution_count": 9,
   "id": "1cc129cc-3d2b-4006-a127-10ab4f4064b1",
   "metadata": {},
   "outputs": [],
   "source": [
    "from functools import reduce\n",
    "Fruits = ['apple', 'banana', 'watermelon', 'muskmelon', 'dragonfruit']\n",
    "longest_string=reduce(lambda x,y: x if len(x) > len(y) else y,Fruits)"
   ]
  },
  {
   "cell_type": "code",
   "execution_count": 10,
   "id": "959c8d2b-128f-434c-a4aa-913f7d21ffa5",
   "metadata": {},
   "outputs": [
    {
     "data": {
      "text/plain": [
       "'dragonfruit'"
      ]
     },
     "execution_count": 10,
     "metadata": {},
     "output_type": "execute_result"
    }
   ],
   "source": [
    "longest_string"
   ]
  },
  {
   "cell_type": "code",
   "execution_count": 11,
   "id": "d362281e-776e-440d-9560-83027fad7e1c",
   "metadata": {},
   "outputs": [],
   "source": [
    "num=[1,2,3,4,5,6,7,8,9,10]\n",
    "even_num=list(filter(lambda x:x%2==0,num))\n"
   ]
  },
  {
   "cell_type": "code",
   "execution_count": 12,
   "id": "6fcd20f9-00d6-43d5-8864-6837fcb41fd3",
   "metadata": {},
   "outputs": [
    {
     "data": {
      "text/plain": [
       "[2, 4, 6, 8, 10]"
      ]
     },
     "execution_count": 12,
     "metadata": {},
     "output_type": "execute_result"
    }
   ],
   "source": [
    "even_num"
   ]
  },
  {
   "cell_type": "code",
   "execution_count": 16,
   "id": "9ba591bb-1395-4a93-bdb2-7cab53f3f1ef",
   "metadata": {},
   "outputs": [],
   "source": [
    "Fruits = ['apple', 'banana', 'watermelon', 'muskmelon', 'dragonfruit']\n",
    "n=6\n",
    "more_than_six=list(filter(lambda x:len(x)>n,Fruits))"
   ]
  },
  {
   "cell_type": "code",
   "execution_count": 17,
   "id": "11771fb9-d58e-47a8-aeef-45ece6be7d8b",
   "metadata": {},
   "outputs": [
    {
     "data": {
      "text/plain": [
       "['watermelon', 'muskmelon', 'dragonfruit']"
      ]
     },
     "execution_count": 17,
     "metadata": {},
     "output_type": "execute_result"
    }
   ],
   "source": [
    "more_than_six"
   ]
  },
  {
   "cell_type": "code",
   "execution_count": 19,
   "id": "00f445b6-29df-4241-a508-0fca3bebb87a",
   "metadata": {},
   "outputs": [
    {
     "data": {
      "text/plain": [
       "array([1, 2, 3, 4, 5])"
      ]
     },
     "execution_count": 19,
     "metadata": {},
     "output_type": "execute_result"
    }
   ],
   "source": [
    "import numpy as np\n",
    "arr=np.array([1,2,3,4,5])\n",
    "type(arr)"
   ]
  },
  {
   "cell_type": "code",
   "execution_count": 22,
   "id": "89e637d5-7dee-4511-aa40-720471e444a7",
   "metadata": {},
   "outputs": [
    {
     "data": {
      "text/plain": [
       "array([[1, 2, 3, 4, 5],\n",
       "       [2, 6, 7, 8, 9],\n",
       "       [8, 9, 6, 7, 3],\n",
       "       [1, 2, 3, 7, 9]])"
      ]
     },
     "execution_count": 22,
     "metadata": {},
     "output_type": "execute_result"
    }
   ],
   "source": [
    "arr_2d=np.array([[1,2,3,4,5],[2,6,7,8,9],[8,9,6,7,3],[1,2,3,7,9]])\n",
    "arr_2d"
   ]
  },
  {
   "cell_type": "code",
   "execution_count": 24,
   "id": "6fc37317-113a-4758-9ea4-4917c81b8521",
   "metadata": {},
   "outputs": [
    {
     "data": {
      "text/plain": [
       "array([[6, 7, 8],\n",
       "       [9, 6, 7]])"
      ]
     },
     "execution_count": 24,
     "metadata": {},
     "output_type": "execute_result"
    }
   ],
   "source": [
    "arr_2d[1:3,1:4]"
   ]
  },
  {
   "cell_type": "code",
   "execution_count": null,
   "id": "bc9f42bb-7976-4f8f-a32f-16de25f8ca52",
   "metadata": {},
   "outputs": [],
   "source": []
  }
 ],
 "metadata": {
  "kernelspec": {
   "display_name": "Python 3 (ipykernel)",
   "language": "python",
   "name": "python3"
  },
  "language_info": {
   "codemirror_mode": {
    "name": "ipython",
    "version": 3
   },
   "file_extension": ".py",
   "mimetype": "text/x-python",
   "name": "python",
   "nbconvert_exporter": "python",
   "pygments_lexer": "ipython3",
   "version": "3.11.7"
  }
 },
 "nbformat": 4,
 "nbformat_minor": 5
}
